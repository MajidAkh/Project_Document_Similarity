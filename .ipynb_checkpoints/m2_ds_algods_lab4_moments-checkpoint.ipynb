{
 "cells": [
  {
   "cell_type": "markdown",
   "metadata": {
    "id": "OpOHLyhPpaxC"
   },
   "source": [
    "# Algorithms for Data Science"
   ]
  },
  {
   "cell_type": "markdown",
   "metadata": {
    "id": "NvZ7rLY2pg8i"
   },
   "source": [
    "## Computing Moments of a Stream"
   ]
  },
  {
   "cell_type": "markdown",
   "metadata": {
    "id": "NqIyJ2BgplVA"
   },
   "source": [
    "### 1. Preliminaries \n",
    "\n",
    "The objective of this lab is to implement the Alon-Matias-Szegedy approach to estimate the $2$nd moment of the stream in which $N$ distinct items from $0$ to $N-1$ appear."
   ]
  },
  {
   "cell_type": "code",
   "execution_count": null,
   "metadata": {
    "id": "uj1GxrPF_DxQ"
   },
   "outputs": [],
   "source": [
    "import random\n",
    "\n",
    "#parameters\n",
    "N = 256 #N distinct values between 0 and N-1\n",
    "S = 10000"
   ]
  },
  {
   "cell_type": "markdown",
   "metadata": {
    "id": "GgKzrJj3_oiX"
   },
   "source": [
    "### 2. Alon-Matias-Szegedy for Second Moments\n",
    "\n",
    "We implement here the AMS approach when the stream size is known:\n",
    "1. We choose a number $t$ between $0$ and $Stream$_$size-1$ from which the counts are kept\n",
    "2. When the stream is at timestamp $t$, we initialize $\\text{v}=S(t)$ and $c=1$\n",
    "3. Whenever we encounter $v$ in the stream, we increment $c$ by $1$\n",
    "At the end of the stream, we output the estimator $S(2c-1)$\n",
    "\n",
    "This can be easily extended to an arbirary number of counts, by generating $k$ different timestamps and keeping arrays of $v$ and $c$."
   ]
  },
  {
   "cell_type": "code",
   "execution_count": null,
   "metadata": {
    "colab": {
     "base_uri": "https://localhost:8080/",
     "height": 51
    },
    "id": "IbQ0B1a3BpAV",
    "outputId": "b0b4a98f-5530-417d-dd0c-0f6a393edb9f"
   },
   "outputs": [
    {
     "name": "stdout",
     "output_type": "stream",
     "text": [
      "Estimation of 2nd moment: 326000\n",
      "True second moment: 401418\n"
     ]
    }
   ],
   "source": [
    "#initialize values and counts\n",
    "v = []\n",
    "c = []\n",
    "#keeping the true counts \n",
    "counts = {}\n",
    "#choosing k timestamps\n",
    "k = 10\n",
    "t = []\n",
    "for _ in range(k):\n",
    "  t.append(random.randrange(stream_size))\n",
    "  v.append(-1)\n",
    "  c.append(0)\n",
    "\n",
    "for i in range(stream_size):\n",
    "  #take a random value between 0 and N-1\n",
    "  s = random.randrange(N)\n",
    "  #AMS approach\n",
    "  for j in range(k):\n",
    "    if i==t[j]: #chosen timestamp\n",
    "      v[j] = s\n",
    "      c[j] = 1\n",
    "    elif i>t[j] and s==v[j]: #after timestamp\n",
    "      c[j] += 1\n",
    "  #true counts (only for evaluation!)\n",
    "  if s not in counts:\n",
    "    counts[s] = 0\n",
    "  counts[s] = counts[s]+1\n",
    "\n",
    "true = 0\n",
    "for x in counts.keys():\n",
    "  true += counts[x]*counts[x]\n",
    "\n",
    "est = 0\n",
    "for x in range(k):\n",
    "  est += 2*c[x]-1\n",
    "est = int((stream_size/k)*est)\n",
    "\n",
    "print('Estimation of 2nd moment: %d'%est)\n",
    "print('True second moment: %d'%true)"
   ]
  },
  {
   "cell_type": "markdown",
   "metadata": {
    "id": "Dz9rNT2Na35t"
   },
   "source": [
    "### 3. **TASK** AMS for Infinite Streams\n",
    "\n",
    "Implement the case when the estimator does not know the size of the stream.\n",
    "\n",
    "In this case, instead of generating $k$ timestamps, we proceed to use _Reservoir Sampling_ as explained in the lecture:\n",
    "1. initialize $v$ and $c$ with the corresponding values in the first $k$ items in the stream $S$,\n",
    "2. for timestamp $t>k$, we decide whether to replace a $v$ with probability $k/t$,\n",
    "3. if true, we replace a value (and its corresponding count) at random in the arrays $v$ and $c$ (and re-initialize the values)."
   ]
  },
  {
   "cell_type": "code",
   "execution_count": null,
   "metadata": {
    "id": "3Va-_6fda-jf"
   },
   "outputs": [],
   "source": [
    "# YOUR CODE HERE"
   ]
  },
  {
   "cell_type": "markdown",
   "metadata": {
    "id": "FZHcE7Jve1PR"
   },
   "source": [
    "_You can use this cell to write your discussion of the results_"
   ]
  }
 ],
 "metadata": {
  "colab": {
   "collapsed_sections": [],
   "name": "m2_ds_algods_lab4_moments.ipynb",
   "provenance": []
  },
  "kernelspec": {
   "display_name": "Python 3",
   "language": "python",
   "name": "python3"
  },
  "language_info": {
   "codemirror_mode": {
    "name": "ipython",
    "version": 3
   },
   "file_extension": ".py",
   "mimetype": "text/x-python",
   "name": "python",
   "nbconvert_exporter": "python",
   "pygments_lexer": "ipython3",
   "version": "3.7.3"
  }
 },
 "nbformat": 4,
 "nbformat_minor": 1
}
